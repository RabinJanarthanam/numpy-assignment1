{
  "nbformat": 4,
  "nbformat_minor": 0,
  "metadata": {
    "colab": {
      "provenance": []
    },
    "kernelspec": {
      "name": "python3",
      "display_name": "Python 3"
    },
    "language_info": {
      "name": "python"
    }
  },
  "cells": [
    {
      "cell_type": "code",
      "execution_count": null,
      "metadata": {
        "id": "ECRGXm-tKouz"
      },
      "outputs": [],
      "source": [
        "\n",
        "import numpy as np\n",
        "null_vector = np.zeros(10)\n",
        "null_vector[4] = 1\n",
        "print(null_vector)\n"
      ]
    },
    {
      "cell_type": "code",
      "source": [
        "\n",
        "import numpy as np\n",
        "my_vector = np.arange(10, 50)\n",
        "print(my_vector)\n"
      ],
      "metadata": {
        "id": "EwGuz8LOK71r"
      },
      "execution_count": null,
      "outputs": []
    },
    {
      "cell_type": "code",
      "source": [
        "\n",
        "import numpy as np\n",
        "my_matrix = np.arange(9).reshape((3, 3))\n",
        "print(my_matrix)\n"
      ],
      "metadata": {
        "id": "p0xqWLL2LOdm"
      },
      "execution_count": null,
      "outputs": []
    },
    {
      "cell_type": "code",
      "source": [
        "\n",
        "import numpy as np\n",
        "my_array = np.array([1, 2, 0, 0, 4, 0])\n",
        "non_zero_indices = np.nonzero(my_array)\n",
        "print(non_zero_indices)\n"
      ],
      "metadata": {
        "colab": {
          "base_uri": "https://localhost:8080/"
        },
        "id": "ic5HLJFqLf6C",
        "outputId": "adc726f3-a078-4256-e0a5-312a89f0d734"
      },
      "execution_count": 4,
      "outputs": [
        {
          "output_type": "stream",
          "name": "stdout",
          "text": [
            "(array([0, 1, 4]),)\n"
          ]
        }
      ]
    },
    {
      "cell_type": "code",
      "source": [
        "\n",
        "import numpy as np\n",
        "my_array = np.random.rand(10, 10)\n",
        "min_value = np.min(my_array)\n",
        "max_value = np.max(my_array)\n",
        "print(\"Array:\")\n",
        "print(my_array)\n",
        "print(\"\\nMinimum Value:\", min_value)\n",
        "print(\"Maximum Value:\", max_value)\n"
      ],
      "metadata": {
        "id": "eHFZMkEzMWOM"
      },
      "execution_count": null,
      "outputs": []
    },
    {
      "cell_type": "code",
      "source": [
        "\n",
        "import numpy as np\n",
        "random_vector = np.random.rand(30)\n",
        "mean_value = np.mean(random_vector)\n",
        "print(\"Random Vector:\")\n",
        "print(random_vector)\n",
        "print(\"\\nMean Value:\", mean_value)\n"
      ],
      "metadata": {
        "id": "Yd7vvvx0MeuP"
      },
      "execution_count": null,
      "outputs": []
    }
  ]
}